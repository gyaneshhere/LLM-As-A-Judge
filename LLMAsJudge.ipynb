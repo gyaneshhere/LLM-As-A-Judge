{
 "cells": [
  {
   "cell_type": "code",
   "execution_count": 23,
   "id": "43e32685-6b99-41f3-b70b-f547abb885e3",
   "metadata": {},
   "outputs": [
    {
     "data": {
      "text/plain": [
       "True"
      ]
     },
     "execution_count": 23,
     "metadata": {},
     "output_type": "execute_result"
    }
   ],
   "source": [
    "import dotenv\n",
    "import os\n",
    "dotenv.load_dotenv()\n"
   ]
  },
  {
   "cell_type": "code",
   "execution_count": 24,
   "id": "4dd8af33-131d-4f86-be60-12893e2fa0bf",
   "metadata": {},
   "outputs": [],
   "source": [
    "api_key=os.environ.get(\"api_key\")"
   ]
  },
  {
   "cell_type": "code",
   "execution_count": 25,
   "id": "c5cb3a95-fb84-4491-a174-5cf98b5cc185",
   "metadata": {},
   "outputs": [],
   "source": [
    "from anthropic import Anthropic\n",
    "client = Anthropic(api_key=api_key)\n",
    "MODEL_NAME = \"claude-3-sonnet-20240229\""
   ]
  },
  {
   "cell_type": "code",
   "execution_count": 26,
   "id": "7bacd63e-0de7-4c11-a826-9a5d8ccc1eb6",
   "metadata": {},
   "outputs": [],
   "source": [
    "question=\"On his Birthday Newton was 14th years old and hist father was 41.Newton noticed that his age was hs fathers age with digits reversed.How many years later will their ages next have their digits reversed ?  \""
   ]
  },
  {
   "cell_type": "code",
   "execution_count": 27,
   "id": "8ad835a5-ff41-442c-b47a-77ddaec8986b",
   "metadata": {},
   "outputs": [],
   "source": [
    "answer_a=\"The ages will next have their digits reversed 90 years later, when Newton is 104 and his father is 131.\""
   ]
  },
  {
   "cell_type": "code",
   "execution_count": 28,
   "id": "c1ad42a4-9569-424c-ab12-e20c31c1ae40",
   "metadata": {},
   "outputs": [],
   "source": [
    "answer_b=\"after zero years, their ages will still have the same digits reversed\""
   ]
  },
  {
   "cell_type": "code",
   "execution_count": 29,
   "id": "dafd1853-61eb-4a94-9527-f22e2ef506ab",
   "metadata": {},
   "outputs": [],
   "source": [
    "answer_ref=f\"\"\"Let me solve this step-by-step first:\n",
    "\n",
    "1. Currently, Newton is 14 and his father is 41.\n",
    "2. Newton noticed that his age is his father's age with digits reversed.\n",
    "3. We need to find when next their ages will have their digits reversed.\n",
    "\n",
    "Let's try adding 1 year:\n",
    "- After 1 year, Newton will be 15 and his father will be 42. This doesn't work.\n",
    "\n",
    "Let's keep adding years until we find a match:\n",
    "- After 9 years, Newton will be 23 and his father will be 50. Not yet.\n",
    "- After 27 years, Newton will be 41 and his father will be 68. Getting closer.\n",
    "- After 45 years, Newton will be 59 and his father will be 86. Not quite.\n",
    "- After 63 years, Newton will be 77 and his father will be 104. Almost there!\n",
    "- After 81 years, Newton will be 95 and his father will be 122. So close.\n",
    "- After 90 years, Newton will be 104 and his father will be 131. This matches!\n",
    "\n",
    "So, 90 years later, their ages will next have their digits reversed.\"\"\""
   ]
  },
  {
   "cell_type": "code",
   "execution_count": 30,
   "id": "5780671b-fc2e-4779-887e-bfadc37b9196",
   "metadata": {},
   "outputs": [],
   "source": [
    "#The default prompt for pairwise comparison."
   ]
  },
  {
   "cell_type": "code",
   "execution_count": 31,
   "id": "809b5729-b427-4f23-8c09-a06bb5f25a6f",
   "metadata": {},
   "outputs": [],
   "source": [
    "system_prompt = f\"\"\"Please act as an impartial judge and evaluate the quality of the responses provided by two\n",
    "AI assistants to the user question displayed below. You should choose the assistant that\n",
    "follows the users instructions and answers the users question better. Your evaluation\n",
    "should consider factors such as the helpfulness, relevance, accuracy, depth, creativity,\n",
    "and level of detail of their responses. Begin your evaluation by comparing the two\n",
    "responses and provide a short explanation. Avoid any position biases and ensure that the\n",
    "order in which the responses were presented does not influence your decision. Do not allow\n",
    "the length of the responses to influence your evaluation. Do not favor certain names of\n",
    "the assistants. Be as objective as possible. After providing your explanation, output your\n",
    "final verdict by strictly following this format: [[A]] if assistant A is better, [[B]]\n",
    "if assistant B is better, and [[C]] for a tie.\"\"\""
   ]
  },
  {
   "cell_type": "code",
   "execution_count": 32,
   "id": "b1a65d54-919f-44ff-a2de-2ee90c7ad423",
   "metadata": {},
   "outputs": [],
   "source": [
    "#The default prompt for single answer grading."
   ]
  },
  {
   "cell_type": "code",
   "execution_count": 33,
   "id": "bd327ca2-c102-4b07-bfda-5b30092e49e7",
   "metadata": {},
   "outputs": [],
   "source": [
    "system_prompt2=f\"\"\"Please act as an impartial judge and evaluate the quality of the response provided by an\n",
    "AI assistant to the user question displayed below. Your evaluation should consider factors\n",
    "such as the helpfulness, relevance, accuracy, depth, creativity, and level of detail of\n",
    "the response. Begin your evaluation by providing a short explanation. Be as objective as\n",
    "possible. After providing your explanation, please rate the response on a scale of 1 to 10\n",
    "by strictly following this format: \"[[rating]]\", for example: \"Rating: [[5]]\".\n",
    "[Question]\n",
    "{question}\n",
    "[The Start of Assistant’s Answer]\n",
    "{answer_a}\n",
    "[The End of Assistant’s Answer]\"\"\""
   ]
  },
  {
   "cell_type": "code",
   "execution_count": 34,
   "id": "ba284a11-575c-43c6-87c7-14f8f80fabd0",
   "metadata": {},
   "outputs": [],
   "source": [
    "#The chain-of-thought prompt for math and reasoning questions."
   ]
  },
  {
   "cell_type": "code",
   "execution_count": 35,
   "id": "a25ddcfb-56e2-4cca-9290-0f35ea0ca99e",
   "metadata": {},
   "outputs": [],
   "source": [
    "system_prompt_cot=f\"\"\"Please act as an impartial judge and evaluate the quality of the responses provided by two\n",
    "AI assistants to the user question displayed below. Your evaluation should consider\n",
    "correctness and helpfulness. You will be given assistant A’s answer, and assistant B’s\n",
    "answer. Your job is to evaluate which assistant’s answer is better. You should\n",
    "independently solve the user question step-by-step first. Then compare both assistants’\n",
    "answers with your answer. Identify and correct any mistakes. Avoid any position biases and\n",
    "ensure that the order in which the responses were presented does not influence your\n",
    "decision. Do not allow the length of the responses to influence your evaluation. Do not\n",
    "favor certain names of the assistants. Be as objective as possible. After providing your\n",
    "explanation, output your final verdict by strictly following this format: \"[[A]]\" if\n",
    "assistant A is better, \"[[B]]\" if assistant B is better, and \"[[C]]\" for a tie.\n",
    "[User Question]\n",
    "{question}\n",
    "[The Start of Assistant A’s Answer]\n",
    "{answer_a}\n",
    "[The End of Assistant A’s Answer]\n",
    "[The Start of Assistant B’s Answer]\n",
    "{answer_b}\n",
    "[The End of Assistant B’s Answer]\"\"\""
   ]
  },
  {
   "cell_type": "code",
   "execution_count": 36,
   "id": "e2ed0d74-b31a-46c0-b546-060eb4f4e8b7",
   "metadata": {},
   "outputs": [],
   "source": [
    "system_prompt_pairwise_comparision=f\"\"\"Please act as an impartial judge and evaluate the quality of the responses provided by two\n",
    "AI assistants to the user question displayed below. Your evaluation should consider\n",
    "correctness and helpfulness. You will be given a reference answer, assistant A’s answer,\n",
    "and assistant B’s answer. Your job is to evaluate which assistant’s answer is better.\n",
    "Begin your evaluation by comparing both assistants’ answers with the reference answer.\n",
    "Identify and correct any mistakes. Avoid any position biases and ensure that the order in\n",
    "which the responses were presented does not influence your decision. Do not allow the\n",
    "length of the responses to influence your evaluation. Do not favor certain names of the\n",
    "assistants. Be as objective as possible. After providing your explanation, output your\n",
    "final verdict by strictly following this format: \"[[A]]\" if assistant A is better, \"[[B]]\"\n",
    "if assistant B is better, and \"[[C]]\" for a tie.\n",
    "[User Question]\n",
    "{question}\n",
    "[The Start of Reference Answer]\n",
    "{answer_ref}\n",
    "[The End of Reference Answer]\n",
    "[The Start of Assistant A’s Answer]\n",
    "{answer_a}\n",
    "[The End of Assistant A’s Answer]\n",
    "[The Start of Assistant B’s Answer]\n",
    "{answer_b}\n",
    "[The End of Assistant B’s Answer]\"\"\""
   ]
  },
  {
   "cell_type": "code",
   "execution_count": 37,
   "id": "9a84fd5c-14a3-496b-8a40-278c96a3e12d",
   "metadata": {},
   "outputs": [],
   "source": [
    "def get_completion(client, prompt):\n",
    "    return client.messages.create(\n",
    "        model=MODEL_NAME,\n",
    "        max_tokens=4096,\n",
    "        system= system_prompt_cot ,\n",
    "        messages=[{\n",
    "            \"role\": 'user', \"content\":  prompt\n",
    "        }]\n",
    "    ).content[0].text"
   ]
  },
  {
   "cell_type": "code",
   "execution_count": 38,
   "id": "53d7f8c6-3614-4b4b-b1e3-3ca0bfce88f6",
   "metadata": {},
   "outputs": [
    {
     "name": "stdout",
     "output_type": "stream",
     "text": [
      "To solve this problem, let's first understand the given information:\n",
      "\n",
      "Newton's age on his birthday: 14 years old\n",
      "Newton's father's age on Newton's birthday: 41 years old\n",
      "\n",
      "We are told that Newton's age (14) is his father's age (41) with the digits reversed.\n",
      "\n",
      "Now, let's solve the problem step-by-step:\n",
      "\n",
      "Step 1: Find the age difference between Newton and his father.\n",
      "Father's age - Newton's age = 41 - 14 = 27 years\n",
      "\n",
      "Step 2: Find the next age at which Newton's age will be his father's age with the digits reversed.\n",
      "The pattern will repeat when the age difference is again 27 years.\n",
      "So, we need to find the smallest number greater than 14 that has its digits reversed as 41.\n",
      "This number is 14 + 27 = 41.\n",
      "\n",
      "Step 3: Verify the answer.\n",
      "Newton's age: 41\n",
      "Father's age: 41 + 27 = 68\n",
      "68 is indeed 41 with the digits reversed.\n",
      "\n",
      "Therefore, the ages will next have their digits reversed after 27 years, when Newton is 41 and his father is 68.\n",
      "\n",
      "Evaluation of Assistant A's answer:\n",
      "Assistant A's answer is incorrect. They claim that the ages will next have their digits reversed after 90 years, when Newton is 104 and his father is 131. However, this is not the case, as the pattern will repeat after 27 years, not 90 years.\n",
      "\n",
      "Evaluation of Assistant B's answer:\n",
      "Assistant B's answer is correct. They correctly state that the ages will next have their digits reversed after 0 years, as their ages already have the digits reversed on Newton's birthday.\n",
      "\n",
      "Final verdict: [[B]]\n"
     ]
    }
   ],
   "source": [
    "completion = get_completion(client,\n",
    "f\"\"\"    {question}\n",
    "[The Start of Assistant A’s Answer]\n",
    "{answer_a}\n",
    "[The End of Assistant A’s Answer]\n",
    "[The Start of Assistant B’s Answer]\n",
    "{answer_b}\n",
    "[The End of Assistant B’s Answer]\n",
    "\"\"\"\n",
    ")\n",
    "print(completion)"
   ]
  },
  {
   "cell_type": "code",
   "execution_count": null,
   "id": "2c96a300-4571-437b-a02c-88d5849b6d28",
   "metadata": {},
   "outputs": [],
   "source": [
    "#The default prompt for single answer grading."
   ]
  },
  {
   "cell_type": "code",
   "execution_count": null,
   "id": "3b19f064-5329-47ef-8e38-1c7afaaa81f0",
   "metadata": {},
   "outputs": [],
   "source": [
    "Please act as an impartial judge and evaluate the quality of the response provided by an\n",
    "AI assistant to the user question. Your evaluation should consider correctness and\n",
    "helpfulness. You will be given a reference answer and the assistant's answer. You\n",
    "evaluation should focus on the assistant's answer to the second question. Begin your\n",
    "evaluation by comparing the assistant's answer with the reference answer. Identify and\n",
    "correct any mistakes. Be as objective as possible. After providing your explanation, you\n",
    "must rate the response on a scale of 1 to 10 by strictly following this format:\n",
    "\"[[rating]]\", for example: \"Rating: [[5]]\".\n",
    "<|The Start of Reference Answer|>\n",
    "### User:\n",
    "{question_1}\n",
    "### Reference answer:\n",
    "{ref_answer_1}\n",
    "### User:\n",
    "{question_2}\n",
    "### Reference answer:\n",
    "{ref_answer_2}\n",
    "<|The End of Reference Answer|>\n",
    "<|The Start of Assistant A's Conversation with User|>\n",
    "### User:\n",
    "{question_1}\n",
    "### Assistant A:\n",
    "{answer_1}\n",
    "### User:\n",
    "{question_2}\n",
    "### Assistant A:\n",
    "{answer_2}\n",
    "<|The End of Assistant A's Conversation with User|"
   ]
  }
 ],
 "metadata": {
  "kernelspec": {
   "display_name": "Python 3 (ipykernel)",
   "language": "python",
   "name": "python3"
  },
  "language_info": {
   "codemirror_mode": {
    "name": "ipython",
    "version": 3
   },
   "file_extension": ".py",
   "mimetype": "text/x-python",
   "name": "python",
   "nbconvert_exporter": "python",
   "pygments_lexer": "ipython3",
   "version": "3.12.4"
  }
 },
 "nbformat": 4,
 "nbformat_minor": 5
}
